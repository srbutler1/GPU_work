{
 "cells": [
  {
   "cell_type": "code",
   "execution_count": 1,
   "metadata": {},
   "outputs": [
    {
     "name": "stdout",
     "output_type": "stream",
     "text": [
      "CUDA is available. PyTorch is using GPU.\n",
      "GPU Name: NVIDIA L4\n"
     ]
    }
   ],
   "source": [
    "import torch\n",
    "\n",
    "# Check if CUDA is available\n",
    "if torch.cuda.is_available():\n",
    "    print(\"CUDA is available. PyTorch is using GPU.\")\n",
    "    # Check the name of the GPU\n",
    "    print(f\"GPU Name: {torch.cuda.get_device_name(0)}\")\n",
    "else:\n",
    "    print(\"CUDA is not available. PyTorch is using CPU.\")"
   ]
  },
  {
   "cell_type": "code",
   "execution_count": 17,
   "metadata": {},
   "outputs": [
    {
     "name": "stdout",
     "output_type": "stream",
     "text": [
      "CPU result: 49998268.0000, Time: 0.1088 seconds\n",
      "GPU result: 49998192.0000, Time: 0.0162 seconds\n",
      "Speedup: 6.71x\n"
     ]
    }
   ],
   "source": [
    "import cupy as cp\n",
    "import numpy as np\n",
    "import time\n",
    "\n",
    "# Initialize large array\n",
    "N = 10**8\n",
    "array = np.random.rand(N).astype(np.float32)\n",
    "\n",
    "# CPU sum\n",
    "start = time.time()\n",
    "cpu_result = np.sum(array)\n",
    "cpu_time = time.time() - start\n",
    "print(f\"CPU result: {cpu_result:.4f}, Time: {cpu_time:.4f} seconds\")\n",
    "\n",
    "# GPU sum using CuPy\n",
    "d_array = cp.array(array)\n",
    "start = time.time()\n",
    "gpu_result = cp.sum(d_array).get()\n",
    "gpu_time = time.time() - start\n",
    "print(f\"GPU result: {gpu_result:.4f}, Time: {gpu_time:.4f} seconds\")\n",
    "\n",
    "# Speedup\n",
    "speedup = cpu_time / gpu_time\n",
    "print(f\"Speedup: {speedup:.2f}x\")\n",
    "\n",
    "\n"
   ]
  }
 ],
 "metadata": {
  "kernelspec": {
   "display_name": "base",
   "language": "python",
   "name": "python3"
  },
  "language_info": {
   "codemirror_mode": {
    "name": "ipython",
    "version": 3
   },
   "file_extension": ".py",
   "mimetype": "text/x-python",
   "name": "python",
   "nbconvert_exporter": "python",
   "pygments_lexer": "ipython3",
   "version": "3.12.4"
  }
 },
 "nbformat": 4,
 "nbformat_minor": 2
}
